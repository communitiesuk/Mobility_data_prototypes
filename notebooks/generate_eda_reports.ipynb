{
 "cells": [
  {
   "cell_type": "code",
   "execution_count": null,
   "metadata": {},
   "outputs": [],
   "source": [
    "import pandas as pd\n",
    "import pyodbc\n",
    "from ydata_profiling import ProfileReport"
   ]
  },
  {
   "cell_type": "code",
   "execution_count": null,
   "metadata": {},
   "outputs": [],
   "source": [
    "server = 'DAP-SQL01\\CDS' \n",
    "database = 'Place'\n",
    "\n",
    "# ENCRYPT defaults to yes starting in ODBC Driver 18. It's good to always specify ENCRYPT=yes on the client side to avoid MITM attacks.\n",
    "cnxn = pyodbc.connect(driver='{SQL Server Native Client 11.0}', \n",
    "                      host=server, database=database, trusted_connection='yes')"
   ]
  },
  {
   "cell_type": "code",
   "execution_count": null,
   "metadata": {},
   "outputs": [],
   "source": [
    "query = '''\n",
    "    SELECT start_msoa, end_msoa, hour_part, journey_purpose, journey_purpose_direction, journey_mode, avg_daily_trips\n",
    "    FROM Process.tb_O2MOTION_ODMODE_Weekly\n",
    "    WHERE start_date = '2023-03-27'\n",
    "    '''"
   ]
  },
  {
   "cell_type": "code",
   "execution_count": null,
   "metadata": {},
   "outputs": [],
   "source": [
    "mode_trips = pd.read_sql_query(query,cnxn) "
   ]
  },
  {
   "cell_type": "code",
   "execution_count": null,
   "metadata": {},
   "outputs": [],
   "source": [
    "mode_trips"
   ]
  },
  {
   "cell_type": "code",
   "execution_count": null,
   "metadata": {},
   "outputs": [],
   "source": [
    "query = '''\n",
    "    SELECT DISTINCT start_msoa, end_msoa\n",
    "    FROM Process.tb_O2MOTION_ODMODE_Weekly\n",
    "    WHERE start_date = '2023-03-27'\n",
    "'''"
   ]
  },
  {
   "cell_type": "code",
   "execution_count": null,
   "metadata": {},
   "outputs": [],
   "source": [
    "unique_msoa_pairs = pd.read_sql_query(query,cnxn) \n",
    "n_unique_msoa_pairs = len(unique_msoa_pairs)\n",
    "total_msoas = mode_trips['start_msoa'].nunique()\n"
   ]
  },
  {
   "cell_type": "code",
   "execution_count": null,
   "metadata": {},
   "outputs": [],
   "source": [
    "n_unique_msoa_pairs"
   ]
  },
  {
   "cell_type": "code",
   "execution_count": null,
   "metadata": {},
   "outputs": [],
   "source": [
    "msoa_pair_perc_coverage = round(100 * (n_unique_msoa_pairs / total_msoas ** 2), 1)"
   ]
  },
  {
   "cell_type": "code",
   "execution_count": null,
   "metadata": {},
   "outputs": [],
   "source": [
    "msoa_pair_perc_coverage"
   ]
  },
  {
   "cell_type": "code",
   "execution_count": null,
   "metadata": {},
   "outputs": [],
   "source": [
    "prof = ProfileReport(\n",
    "                    df=mode_trips,\n",
    "                    variables={\n",
    "                                \"descriptions\": {\n",
    "                                    \"start_msoa\": \"The Middle Super Output Area in which the journey started. Journeys starting in Scotland and Northern Ireland will use Intermediate Zones and Super Output areas respectively\",\n",
    "                                    \"end_msoa\": \"The Middle Super Output Area in which the journey ended. Journeys ending in Scotland and Northern Ireland will use Intermediate Zones and Super Output areas respectively\",\n",
    "                                    \"hour_part\": \"Hour of start time of journey\",\n",
    "                                    \"journey_purpose\": \"Split into two segments: Commute: A commute journey is defined as a journey between a user’s home location and work location. Other: All other journeys\",\n",
    "                                    \"journey_purpose_direction\": \"Split into following segments: Outbound Home Based Work (OB_HBW) A journey from the user’s home location to their work location. Inbound Home Based Work (IB_HBW) A journey into the user’s home location from their home location. Outbound Home Based Other (OB_HBO) A journey from the user’s home location to a location that’s not their work location. Inbound Home Based Other (IB_HBO) A journey to the user’s home location from a location that’s not their work location. Non-home-based work (NHBW) A journey that neither starts or ends in the user’s home location, but starts or ends in their work location. Non-home-based other (NHBO) A journey that neither starts nor ends in the user’s home or work location\",\n",
    "                                    \"journey_mode\": \"Mode of travel split into Rail and Other trips\",\n",
    "                                    \"avg_daily_trips\": \"Average number of daily trips, for MSOA pair, by hour, by journey purpose, and mode. Note that MSOA pairs with 0 trips are not included in the data. There are \" + str(n_unique_msoa_pairs) + \" unique MSOA pairs in this cut of the data, this represents approximately \" + str(msoa_pair_perc_coverage) + \"% of the total possible MSOA pairs\"}\n",
    "                             },\n",
    "                    title=\"2. O2 mobility data EDA report - Weekday MODE data (see Dataset tab for SQL query)\",\n",
    "                    dataset={\n",
    "                        \"description\": \"This report was generated using a single week cut of the full dataset. The following query was used to access this cut of the data:  ‎ ‎ ‎ ‎ ‎ ‎ ‎ ‎ ‎  ‎ ‎ ‎ ‎ ‎ ‎  ‎ ‎ ‎ ‎ ‎ ‎ ‎‎ ‎ ‎ ‎ ‎ ‎ ‎ ‎ ‎‎ ‎ ‎ ‎ ‎ ‎ ‎ ‎ ‎ SELECT start_msoa, end_msoa, hour_part, journey_purpose, journey_purpose_direction, journey_mode, avg_daily_trips ‎ ‎ ‎ ‎ ‎ ‎ ‎ ‎ ‎ ‎ ‎ ‎ ‎ ‎ ‎ ‎ ‎ ‎ ‎ ‎ ‎ ‎‎ ‎ ‎ ‎ ‎ ‎ ‎ ‎ ‎ ‎ ‎ ‎ ‎ ‎ ‎ ‎ ‎ ‎ ‎ ‎ ‎ ‎ ‎ ‎ ‎ ‎ ‎ ‎ ‎ ‎ ‎ ‎ ‎ ‎ ‎ ‎ ‎ ‎ ‎ ‎ ‎ ‎ ‎ ‎ FROM Process.tb_O2MOTION_ODMODE_Weekly ‎ ‎ ‎ ‎ ‎ ‎ ‎ ‎ ‎‎ ‎ ‎ ‎ ‎ ‎ ‎ ‎ ‎‎ ‎ ‎ ‎ ‎ ‎ ‎ ‎ ‎‎ ‎ ‎ ‎ ‎ ‎ ‎ ‎ ‎ ‎ ‎ ‎ ‎ ‎ ‎ ‎ ‎ ‎ ‎ ‎ ‎ ‎ ‎ ‎ ‎ ‎ ‎ ‎ ‎ ‎ ‎ ‎ ‎ ‎ ‎ ‎‎ ‎ ‎ ‎ ‎ ‎ ‎ ‎ ‎ ‎ ‎ ‎ ‎ ‎ ‎ ‎ ‎ ‎ ‎ ‎ ‎ ‎ ‎ ‎ ‎ ‎ ‎ ‎ ‎ ‎ ‎ ‎ ‎ ‎ ‎ ‎‎ ‎ ‎ ‎ ‎ ‎ ‎ ‎ ‎‎ ‎ ‎ ‎ ‎ ‎ ‎ ‎ ‎‎ ‎ ‎ ‎ ‎ ‎ ‎ ‎ ‎‎ ‎ ‎ ‎ ‎ ‎ ‎ ‎ ‎ ‎ ‎ ‎ ‎ ‎ ‎ ‎ ‎ ‎ ‎ ‎ ‎ ‎ ‎ ‎ ‎ ‎ ‎ ‎ ‎ ‎ ‎ ‎ ‎ ‎ ‎ ‎ ‎ ‎ ‎ ‎ ‎ ‎ ‎ ‎ ‎ ‎ ‎ ‎ ‎ ‎ ‎ ‎ ‎ ‎ ‎ ‎ ‎ ‎ ‎ ‎ ‎ ‎ ‎ ‎ ‎ ‎ ‎ ‎ ‎ ‎ ‎ ‎ ‎ ‎ ‎ ‎ ‎ ‎ ‎ ‎ ‎ ‎ ‎ ‎ ‎ ‎ WHERE start_date = '2023-03-27'\",\n",
    "                        \"url\": \"https://mhclg.sharepoint.com/:w:/s/SpatialDataUnit/EdR1AcS_WzNLr0Ilwt2Ow-4BJNHX-lMxGSly_4MXAK1y4g?e=CDkoXe\"\n",
    "                    },\n",
    "                    html={\"style\" : {\"theme\" : \"flatly\"}},\n",
    "                    correlations=None,\n",
    "                    missing_diagrams=None,\n",
    "                    duplicates=None,\n",
    "                    interactions=None\n",
    "                    )\n",
    "prof.to_file(output_file='mobility eda - 2. weekday mode data.html')\n",
    "del mode_trips"
   ]
  },
  {
   "cell_type": "code",
   "execution_count": null,
   "metadata": {},
   "outputs": [],
   "source": [
    "#Jan date for comparison\n",
    "query = '''\n",
    "    SELECT start_msoa, end_msoa, hour_part, journey_purpose, journey_purpose_direction, journey_mode, avg_daily_trips\n",
    "    FROM Process.tb_O2MOTION_ODMODE_Weekly\n",
    "    WHERE start_date = '2023-01-23'\n",
    "    '''"
   ]
  },
  {
   "cell_type": "code",
   "execution_count": null,
   "metadata": {},
   "outputs": [],
   "source": [
    "# commented out query as no need to re-run\n",
    "# mode_trips = pd.read_sql_query(query,cnxn) \n",
    "# len(mode_trips)"
   ]
  },
  {
   "cell_type": "code",
   "execution_count": null,
   "metadata": {},
   "outputs": [],
   "source": [
    "# prof = ProfileReport(\n",
    "#                     df=mode_trips,\n",
    "#                     variables={\n",
    "#                                 \"descriptions\": {\n",
    "#                                     \"start_msoa\": \"The Middle Super Output Area in which the journey started. Journeys starting in Scotland and Northern Ireland will use Intermediate Zones and Super Output areas respectively\",\n",
    "#                                     \"end_msoa\": \"The Middle Super Output Area in which the journey ended. Journeys ending in Scotland and Northern Ireland will use Intermediate Zones and Super Output areas respectively\",\n",
    "#                                     \"hour_part\": \"Hour of start time of journey\",\n",
    "#                                     \"journey_purpose\": \"Split into two segments: Commute: A commute journey is defined as a journey between a user’s home location and work location. Other: All other journeys\",\n",
    "#                                     \"journey_purpose_direction\": \"Split into following segments: Outbound Home Based Work (OB_HBW) A journey from the user’s home location to their work location. Inbound Home Based Work (IB_HBW) A journey into the user’s home location from their home location. Outbound Home Based Other (OB_HBO) A journey from the user’s home location to a location that’s not their work location. Inbound Home Based Other (IB_HBO) A journey to the user’s home location from a location that’s not their work location. Non-home-based work (NHBW) A journey that neither starts or ends in the user’s home location, but starts or ends in their work location. Non-home-based other (NHBO) A journey that neither starts nor ends in the user’s home or work location\",\n",
    "#                                     \"journey_mode\": \"Mode of travel split into Rail and Other trips\",\n",
    "#                                     \"avg_daily_trips\": \"Average number of daily trips, for MSOA pair, by hour, by journey purpose, and mode\"}\n",
    "#                              },\n",
    "#                     title=\"1. O2 mobility data EDA report - Weekday MODE data (see Dataset tab for SQL query)\",\n",
    "#                     dataset={\n",
    "#                         \"description\": \"This report was generated using a single week cut of the full dataset. The following query was used to access this cut of the data:  ‎ ‎ ‎ ‎ ‎ ‎ ‎ ‎ ‎  ‎ ‎ ‎ ‎ ‎ ‎  ‎ ‎ ‎ ‎ ‎ ‎ ‎‎ ‎ ‎ ‎ ‎ ‎ ‎ ‎ ‎‎ ‎ ‎ ‎ ‎ ‎ ‎ ‎ ‎ SELECT start_msoa, end_msoa, hour_part, journey_purpose, journey_purpose_direction, journey_mode, avg_daily_trips ‎ ‎ ‎ ‎ ‎ ‎ ‎ ‎ ‎ ‎ ‎ ‎ ‎ ‎ ‎ ‎ ‎ ‎ ‎ ‎ ‎ ‎‎ ‎ ‎ ‎ ‎ ‎ ‎ ‎ ‎ ‎ ‎ ‎ ‎ ‎ ‎ ‎ ‎ ‎ ‎ ‎ ‎ ‎ ‎ ‎ ‎ ‎ ‎ ‎ ‎ ‎ ‎ ‎ ‎ ‎ ‎ ‎ ‎ ‎ ‎ ‎ ‎ ‎ ‎ ‎ FROM Process.tb_O2MOTION_ODMODE_Weekly ‎ ‎ ‎ ‎ ‎ ‎ ‎ ‎ ‎‎ ‎ ‎ ‎ ‎ ‎ ‎ ‎ ‎‎ ‎ ‎ ‎ ‎ ‎ ‎ ‎ ‎‎ ‎ ‎ ‎ ‎ ‎ ‎ ‎ ‎ ‎ ‎ ‎ ‎ ‎ ‎ ‎ ‎ ‎ ‎ ‎ ‎ ‎ ‎ ‎ ‎ ‎ ‎ ‎ ‎ ‎ ‎ ‎ ‎ ‎ ‎ ‎‎ ‎ ‎ ‎ ‎ ‎ ‎ ‎ ‎ ‎ ‎ ‎ ‎ ‎ ‎ ‎ ‎ ‎ ‎ ‎ ‎ ‎ ‎ ‎ ‎ ‎ ‎ ‎ ‎ ‎ ‎ ‎ ‎ ‎ ‎ ‎‎ ‎ ‎ ‎ ‎ ‎ ‎ ‎ ‎‎ ‎ ‎ ‎ ‎ ‎ ‎ ‎ ‎‎ ‎ ‎ ‎ ‎ ‎ ‎ ‎ ‎‎ ‎ ‎ ‎ ‎ ‎ ‎ ‎ ‎ ‎ ‎ ‎ ‎ ‎ ‎ ‎ ‎ ‎ ‎ ‎ ‎ ‎ ‎ ‎ ‎ ‎ ‎ ‎ ‎ ‎ ‎ ‎ ‎ ‎ ‎ ‎ ‎ ‎ ‎ ‎ ‎ ‎ ‎ ‎ ‎ ‎ ‎ ‎ ‎ ‎ ‎ ‎ ‎ ‎ ‎ ‎ ‎ ‎ ‎ ‎ ‎ ‎ ‎ ‎ ‎ ‎ ‎ ‎ ‎ ‎ ‎ ‎ ‎ ‎ ‎ ‎ ‎ ‎ ‎ ‎ ‎ ‎ ‎ ‎ ‎ ‎ WHERE start_date = '2023-01-23'\",\n",
    "#                         \"url\": \"https://mhclg.sharepoint.com/:w:/s/SpatialDataUnit/EdR1AcS_WzNLr0Ilwt2Ow-4BJNHX-lMxGSly_4MXAK1y4g?e=CDkoXe\"\n",
    "#                     },\n",
    "#                     html={\"style\" : {\"theme\" : \"flatly\"}},\n",
    "#                     correlations=None,\n",
    "#                     missing_diagrams=None,\n",
    "#                     duplicates=None,\n",
    "#                     interactions=None\n",
    "#                     )\n",
    "# prof.to_file(output_file='mode_data_eda_report_JAN.html')"
   ]
  },
  {
   "cell_type": "code",
   "execution_count": null,
   "metadata": {},
   "outputs": [],
   "source": [
    "#weekend mode query\n",
    "query = '''\n",
    "    SELECT start_msoa, end_msoa, hour_part, journey_purpose, journey_purpose_direction, journey_mode, avg_daily_trips\n",
    "    FROM Process.tb_O2MOTION_ODMODE_Weekly\n",
    "    WHERE start_date = '2023-03-18'\n",
    "    '''"
   ]
  },
  {
   "cell_type": "code",
   "execution_count": null,
   "metadata": {},
   "outputs": [],
   "source": [
    "mode_trips = pd.read_sql_query(query,cnxn) \n",
    "len(mode_trips)"
   ]
  },
  {
   "cell_type": "code",
   "execution_count": null,
   "metadata": {},
   "outputs": [],
   "source": [
    "prof = ProfileReport(\n",
    "                    df=mode_trips,\n",
    "                    variables={\n",
    "                                \"descriptions\": {\n",
    "                                    \"start_msoa\": \"The Middle Super Output Area in which the journey started. Journeys starting in Scotland and Northern Ireland will use Intermediate Zones and Super Output areas respectively\",\n",
    "                                    \"end_msoa\": \"The Middle Super Output Area in which the journey ended. Journeys ending in Scotland and Northern Ireland will use Intermediate Zones and Super Output areas respectively\",\n",
    "                                    \"hour_part\": \"Hour of start time of journey\",\n",
    "                                    \"journey_purpose\": \"Split into two segments: Commute: A commute journey is defined as a journey between a user’s home location and work location. Other: All other journeys\",\n",
    "                                    \"journey_purpose_direction\": \"Split into following segments: Outbound Home Based Work (OB_HBW) A journey from the user’s home location to their work location. Inbound Home Based Work (IB_HBW) A journey into the user’s home location from their home location. Outbound Home Based Other (OB_HBO) A journey from the user’s home location to a location that’s not their work location. Inbound Home Based Other (IB_HBO) A journey to the user’s home location from a location that’s not their work location. Non-home-based work (NHBW) A journey that neither starts or ends in the user’s home location, but starts or ends in their work location. Non-home-based other (NHBO) A journey that neither starts nor ends in the user’s home or work location\",\n",
    "                                    \"journey_mode\": \"Mode of travel split into Rail and Other trips\",\n",
    "                                    \"avg_daily_trips\": \"Average number of daily trips, for MSOA pair, by hour, by journey purpose, and mode. Note that MSOA pairs with 0 trips are not included in the data. There are \" + str(n_unique_msoa_pairs) + \" unique MSOA pairs in this cut of the data, this represents approximately \" + str(msoa_pair_perc_coverage) + \"% of the total possible MSOA pairs\"}\n",
    "                             },\n",
    "                    title=\"3. O2 mobility data EDA report - Weekend MODE data (see Dataset tab for SQL query)\",\n",
    "                    dataset={\n",
    "                        \"description\": \"This report was generated using a two-weekend cut of the full dataset. The following query was used to access this cut of the data:  ‎ ‎ ‎ ‎ ‎ ‎ ‎ ‎ ‎  ‎ ‎ ‎ ‎ ‎ ‎  ‎ ‎ ‎ ‎ ‎ ‎ ‎‎ ‎ ‎ ‎ ‎ ‎ ‎ ‎ ‎‎ ‎ ‎ ‎ ‎ ‎ ‎ ‎ ‎ SELECT start_msoa, end_msoa, hour_part, journey_purpose, journey_purpose_direction, journey_mode, avg_daily_trips ‎ ‎ ‎ ‎ ‎ ‎ ‎ ‎ ‎ ‎ ‎ ‎ ‎ ‎ ‎ ‎ ‎ ‎ ‎ ‎ ‎ ‎‎ ‎ ‎ ‎ ‎ ‎ ‎ ‎ ‎ ‎ ‎ ‎ ‎ ‎ ‎ ‎ ‎ ‎ ‎ ‎ ‎ ‎ ‎ ‎ ‎ ‎ ‎ ‎ ‎ ‎ ‎ ‎ ‎ ‎ ‎ ‎ ‎ ‎ ‎ ‎ ‎ ‎ ‎ ‎ FROM Process.tb_O2MOTION_ODMODE_Weekly ‎ ‎ ‎ ‎ ‎ ‎ ‎ ‎ ‎‎ ‎ ‎ ‎ ‎ ‎ ‎ ‎ ‎‎ ‎ ‎ ‎ ‎ ‎ ‎ ‎ ‎‎ ‎ ‎ ‎ ‎ ‎ ‎ ‎ ‎ ‎ ‎ ‎ ‎ ‎ ‎ ‎ ‎ ‎ ‎ ‎ ‎ ‎ ‎ ‎ ‎ ‎ ‎ ‎ ‎ ‎ ‎ ‎ ‎ ‎ ‎ ‎‎ ‎ ‎ ‎ ‎ ‎ ‎ ‎ ‎ ‎ ‎ ‎ ‎ ‎ ‎ ‎ ‎ ‎ ‎ ‎ ‎ ‎ ‎ ‎ ‎ ‎ ‎ ‎ ‎ ‎ ‎ ‎ ‎ ‎ ‎ ‎‎ ‎ ‎ ‎ ‎ ‎ ‎ ‎ ‎‎ ‎ ‎ ‎ ‎ ‎ ‎ ‎ ‎‎ ‎ ‎ ‎ ‎ ‎ ‎ ‎ ‎‎ ‎ ‎ ‎ ‎ ‎ ‎ ‎ ‎ ‎ ‎ ‎ ‎ ‎ ‎ ‎ ‎ ‎ ‎ ‎ ‎ ‎ ‎ ‎ ‎ ‎ ‎ ‎ ‎ ‎ ‎ ‎ ‎ ‎ ‎ ‎ ‎ ‎ ‎ ‎ ‎ ‎ ‎ ‎ ‎ ‎ ‎ ‎ ‎ ‎ ‎ ‎ ‎ ‎ ‎ ‎ ‎ ‎ ‎ ‎ ‎ ‎ ‎ ‎ ‎ ‎ ‎ ‎ ‎ ‎ ‎ ‎ ‎ ‎ ‎ ‎ ‎ ‎ ‎ ‎ ‎ ‎ ‎ ‎ ‎ ‎ WHERE start_date = '2023-03-18'\",\n",
    "                        \"url\": \"https://mhclg.sharepoint.com/:w:/s/SpatialDataUnit/EdR1AcS_WzNLr0Ilwt2Ow-4BJNHX-lMxGSly_4MXAK1y4g?e=CDkoXe\"\n",
    "                    },\n",
    "                    html={\"style\" : {\"theme\" : \"flatly\"}},\n",
    "                    correlations=None,\n",
    "                    missing_diagrams=None,\n",
    "                    duplicates=None,\n",
    "                    interactions=None\n",
    "                    )\n",
    "prof.to_file(output_file='mobility eda - 3. weekend mode data.html')\n",
    "del mode_trips\n"
   ]
  },
  {
   "cell_type": "code",
   "execution_count": null,
   "metadata": {},
   "outputs": [],
   "source": [
    "#weekday demographic data\n",
    "#for some reason I had to explicitly state the Place schema here otherwise the query would fail\n",
    "demo_query = '''\n",
    "    SELECT start_msoa, end_msoa, hour_part, age, gender, spend_power, avg_daily_trips\n",
    "    FROM [Place].[Process].[tb_O2MOTION_ODDEMO_Weekly]\n",
    "    WHERE start_date = '2023-03-27'\n",
    "    '''"
   ]
  },
  {
   "cell_type": "code",
   "execution_count": null,
   "metadata": {},
   "outputs": [],
   "source": [
    "demo_trips = pd.read_sql_query(demo_query, cnxn) "
   ]
  },
  {
   "cell_type": "code",
   "execution_count": null,
   "metadata": {},
   "outputs": [],
   "source": [
    "prof = ProfileReport(\n",
    "                    df=demo_trips,\n",
    "                    variables={\n",
    "                                \"descriptions\": {\n",
    "                                    \"start_msoa\": \"The Middle Super Output Area in which the journey started. Journeys starting in Scotland and Northern Ireland will use Intermediate Zones and Super Output areas respectively\",\n",
    "                                    \"end_msoa\": \"The Middle Super Output Area in which the journey ended. Journeys ending in Scotland and Northern Ireland will use Intermediate Zones and Super Output areas respectively\",\n",
    "                                    \"hour_part\": \"Hour of start time of journey\",\n",
    "                                    \"age\": \"Age band of user\",\n",
    "                                    \"gender\": \"Gender category of user. Note that Age & Gender are based on data supplied by customers when they take out a contract product. No Age & Gender data is collected for other products such as Pay As You Go. The Unknown category makes up around 55% of the users used in the analysis\",\n",
    "                                    \"spend_power\": \"Classification of users propensity to spend. Spend power is inferred from behaviour rather than user home location\",\n",
    "                                    \"avg_daily_trips\": \"Average number of daily trips, for MSOA pair, by hour, by journey purpose, and mode. Note that MSOA pairs with 0 trips are not included in the data. There are 4.2 million unique MSOA pairs in this cut of the data, this represents approximately 4.8% of the total possible MSOA pairs\"}\n",
    "                             },\n",
    "                    title=\"4. O2 mobility data EDA report - Weekday demographic data (see Dataset tab for SQL query)\",\n",
    "                    dataset={\n",
    "                        \"description\": \"This report was generated using a single week cut of the full dataset. The following query was used to access this cut of the data:  ‎ ‎ ‎ ‎ ‎ ‎ ‎ ‎ ‎  ‎ ‎ ‎ ‎ ‎ ‎  ‎ ‎ ‎ ‎ ‎ ‎ ‎‎ ‎ ‎ ‎ ‎ ‎ ‎ ‎ ‎‎ ‎ ‎ ‎ ‎ ‎ ‎ ‎ ‎ SELECT start_msoa, end_msoa, hour_part, age, gender, spend_power, avg_daily_trips ‎ ‎ ‎ ‎ ‎ ‎ ‎ ‎ ‎ ‎ ‎ ‎ ‎ ‎ ‎ ‎ ‎ ‎ ‎ ‎ ‎ ‎ ‎ ‎ ‎ ‎ ‎ ‎ ‎ ‎ ‎ ‎ ‎‎ ‎ ‎ ‎ ‎ ‎ ‎ ‎ ‎ ‎ ‎ ‎ ‎ ‎ ‎ ‎ ‎ ‎ ‎ ‎ ‎ ‎ ‎ ‎  ‎ ‎ ‎ ‎ ‎ ‎ ‎ ‎ ‎ ‎ ‎ ‎ ‎ ‎ ‎ ‎ ‎ ‎ ‎ ‎ ‎ ‎ ‎ ‎ ‎ ‎ ‎ ‎ ‎ ‎ ‎ ‎ ‎ ‎ ‎ ‎ ‎ ‎ ‎ ‎ ‎ ‎ ‎‎ ‎ ‎ ‎ ‎ ‎ ‎ ‎ ‎ ‎ ‎ ‎ ‎ ‎ ‎ ‎ ‎ ‎ ‎ ‎ ‎ ‎ ‎ ‎ ‎ ‎ ‎ ‎ ‎ ‎ ‎ ‎ ‎ ‎ ‎ ‎ ‎ ‎ ‎ ‎ ‎ ‎ ‎ ‎ FROM Process.tb_O2MOTION_ODDEMO_Weekly ‎ ‎ ‎ ‎ ‎ ‎ ‎ ‎ ‎‎ ‎ ‎ ‎ ‎ ‎ ‎ ‎ ‎‎ ‎ ‎ ‎ ‎ ‎ ‎ ‎ ‎‎ ‎ ‎ ‎ ‎ ‎ ‎ ‎ ‎ ‎ ‎ ‎ ‎ ‎ ‎ ‎ ‎ ‎ ‎ ‎ ‎ ‎ ‎ ‎ ‎ ‎ ‎ ‎ ‎ ‎ ‎ ‎ ‎ ‎ ‎ ‎‎ ‎ ‎ ‎ ‎ ‎ ‎ ‎ ‎ ‎ ‎ ‎ ‎ ‎ ‎ ‎ ‎ ‎ ‎ ‎ ‎ ‎ ‎ ‎ ‎ ‎ ‎ ‎ ‎ ‎ ‎ ‎ ‎ ‎ ‎ ‎‎ ‎ ‎ ‎ ‎ ‎ ‎ ‎ ‎‎ ‎ ‎ ‎ ‎ ‎ ‎ ‎ ‎‎ ‎ ‎ ‎ ‎ ‎ ‎ ‎ ‎‎ ‎ ‎ ‎ ‎ ‎ ‎ ‎ ‎ ‎ ‎ ‎ ‎ ‎ ‎ ‎ ‎ ‎ ‎ ‎ ‎ ‎ ‎ ‎ ‎ ‎ ‎ ‎ ‎ ‎ ‎ ‎ ‎ ‎ ‎ ‎ ‎ ‎ ‎ ‎ ‎ ‎ ‎ ‎ ‎ ‎ ‎ ‎ ‎ ‎ ‎ ‎ ‎ ‎ ‎ ‎ ‎ ‎ ‎ ‎ ‎ ‎ ‎ ‎ ‎ ‎ ‎ ‎ ‎ ‎ ‎ ‎ ‎ ‎ ‎ ‎ ‎ ‎ ‎ ‎ ‎ ‎ ‎ ‎ ‎ ‎ WHERE start_date = '2023-03-27'\",\n",
    "                        \"url\": \"https://mhclg.sharepoint.com/:w:/s/SpatialDataUnit/EdR1AcS_WzNLr0Ilwt2Ow-4BJNHX-lMxGSly_4MXAK1y4g?e=CDkoXe\"\n",
    "                    },\n",
    "                    html={\"style\" : {\"theme\" : \"flatly\"}},\n",
    "                    correlations=None,\n",
    "                    missing_diagrams=None,\n",
    "                    duplicates=None,\n",
    "                    interactions=None\n",
    "                    )\n",
    "prof.to_file(output_file='mobility eda - 4. weekday demographic data.html')\n",
    "del demo_trips"
   ]
  },
  {
   "cell_type": "code",
   "execution_count": null,
   "metadata": {},
   "outputs": [],
   "source": [
    "#timeseries query - weekday trips by journey mode\n",
    "timeseries_mode_query = '''\n",
    "    SELECT start_date, journey_mode, SUM(avg_daily_trips) avg_daily_trips\n",
    "    FROM [Place].[Process].[tb_O2MOTION_ODMODE_Weekly]\n",
    "    WHERE DATEPART(dw, start_date) = 1\n",
    "    GROUP BY start_date, journey_mode\n",
    "    '''"
   ]
  },
  {
   "cell_type": "code",
   "execution_count": null,
   "metadata": {},
   "outputs": [],
   "source": [
    "timeseries_mode = pd.read_sql_query(timeseries_mode_query, cnxn) "
   ]
  },
  {
   "cell_type": "code",
   "execution_count": null,
   "metadata": {},
   "outputs": [],
   "source": [
    "timeseries_mode_pivoted = timeseries_mode.pivot(index='start_date', columns='journey_mode', values='avg_daily_trips').reset_index()\n",
    "timeseries_mode_pivoted.rename(columns={\"Rail\": \"rail_mode_trips\", \"Other\": \"other_mode_trips\"}, inplace=True)\n",
    "timeseries_mode_pivoted = timeseries_mode_pivoted.rename_axis(None, axis=1)  \n",
    "timeseries_mode_pivoted\n"
   ]
  },
  {
   "cell_type": "code",
   "execution_count": null,
   "metadata": {},
   "outputs": [],
   "source": [
    "#timeseries query - weekday trips by journey purpose\n",
    "timeseries_purpose_query = '''\n",
    "    SELECT start_date, journey_purpose, SUM(avg_daily_trips) avg_daily_trips\n",
    "    FROM [Place].[Process].[tb_O2MOTION_ODMODE_Weekly]\n",
    "    WHERE DATEPART(dw, start_date) = 1\n",
    "    GROUP BY start_date, journey_purpose\n",
    "    '''"
   ]
  },
  {
   "cell_type": "code",
   "execution_count": null,
   "metadata": {},
   "outputs": [],
   "source": [
    "timeseries_purpose = pd.read_sql_query(timeseries_purpose_query, cnxn) "
   ]
  },
  {
   "cell_type": "code",
   "execution_count": null,
   "metadata": {},
   "outputs": [],
   "source": [
    "timeseries_purpose_pivoted = timeseries_purpose.pivot(index='start_date', columns='journey_purpose', values='avg_daily_trips').reset_index()\n",
    "timeseries_purpose_pivoted.rename(columns={\"Commute\": \"commute_purpose_trips\", \"Other\": \"other_purpose_trips\"}, inplace=True)\n",
    "timeseries_purpose_pivoted= timeseries_purpose_pivoted.rename_axis(None, axis=1)  \n",
    "timeseries_purpose_pivoted"
   ]
  },
  {
   "cell_type": "code",
   "execution_count": null,
   "metadata": {},
   "outputs": [],
   "source": [
    "# join timeseries data\n",
    "timeseries_combined = pd.merge(left=timeseries_mode_pivoted, right=timeseries_purpose_pivoted, on=\"start_date\")"
   ]
  },
  {
   "cell_type": "code",
   "execution_count": null,
   "metadata": {},
   "outputs": [],
   "source": [
    "#convert to pd datetime type\n",
    "timeseries_combined[\"start_date\"] = pd.to_datetime(timeseries_combined[\"start_date\"])"
   ]
  },
  {
   "cell_type": "code",
   "execution_count": null,
   "metadata": {},
   "outputs": [],
   "source": [
    "timeseries_combined"
   ]
  },
  {
   "cell_type": "code",
   "execution_count": null,
   "metadata": {},
   "outputs": [],
   "source": [
    "# FYI - The timeseries section of the code won't run on your machine as it stands. I had to do a hacky hard-code fix of the profiling library to get around a known bug: https://github.com/ydataai/ydata-profiling/issues/1433\n",
    "\n",
    "# Setting what variables are time series\n",
    "type_schema = {\n",
    "    \"other_mode_trips\": \"timeseries\",\n",
    "    \"rail_mode_trips\": \"timeseries\",\n",
    "    \"commute_purpose_trips\": \"timeseries\",\n",
    "    \"other_purpose_trips\": \"timeseries\"   \n",
    "}\n",
    "# create report\n",
    "prof = ProfileReport(\n",
    "                    df=timeseries_combined,\n",
    "                    tsmode=True, \n",
    "                    sortby=\"start_date\",\n",
    "                    type_schema=type_schema,\n",
    "                    variables={\n",
    "                                \"descriptions\": {\n",
    "                                    \"start_date\": \"Start date of week for 5 day average collection period. The collection period covers Monday to Friday of each week for each start date. The timeseries variables show the daily average trips over the collection period for the specific mode/journey purpose split\",\n",
    "                                    \"other_mode_trips\": \"Average trips by non-rail modes for all journey purposes\",\n",
    "                                    \"rail_mode_trips\": \"Average trips by rail mode for all journey purposes\",\n",
    "                                    \"commute_purpose_trips\": \"Average number of commute journey purpose trips by all modes. A commute journey is defined as a journey between a user’s home location and work location\",\n",
    "                                    \"other_purpose_trips\": \"Average number of non-commute journey purpose trips by all modes\"\n",
    "                                }\n",
    "                             },\n",
    "                    title=\"1. O2 mobility data EDA report - Timeseries data (see Dataset tab for data processing steps)\",\n",
    "                    dataset={\n",
    "                        \"description\": \"This report was generated using an aggregation of the full dataset. The data processing steps to generate this aggregated data are shown in this Jupyter notebook: https://github.com/communitiesuk/Mobility_SDU/tree/main/notebooks/generate_eda_reports.ipynb\",\n",
    "                        \"url\": \"https://mhclg.sharepoint.com/:w:/s/SpatialDataUnit/EdR1AcS_WzNLr0Ilwt2Ow-4BJNHX-lMxGSly_4MXAK1y4g?e=CDkoXe\"\n",
    "                    },\n",
    "                    html={\"style\" : {\"theme\" : \"flatly\"}},\n",
    "                    missing_diagrams=None,\n",
    "                    duplicates=None\n",
    "                    )\n",
    "prof.to_file(output_file='mobility eda - 1. weekday timeseries data.html')"
   ]
  }
 ],
 "metadata": {
  "kernelspec": {
   "display_name": "Python 3.9.7 ('base')",
   "language": "python",
   "name": "python3"
  },
  "language_info": {
   "codemirror_mode": {
    "name": "ipython",
    "version": 3
   },
   "file_extension": ".py",
   "mimetype": "text/x-python",
   "name": "python",
   "nbconvert_exporter": "python",
   "pygments_lexer": "ipython3",
   "version": "3.9.7"
  },
  "orig_nbformat": 4,
  "vscode": {
   "interpreter": {
    "hash": "caf831573a0ff294614842876d2763885d6da16fb80bd95fae4076843946dd1d"
   }
  }
 },
 "nbformat": 4,
 "nbformat_minor": 2
}
